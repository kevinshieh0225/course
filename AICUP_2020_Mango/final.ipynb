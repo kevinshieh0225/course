{
 "cells": [
  {
   "cell_type": "markdown",
   "metadata": {},
   "source": [
    "# 3. function：把五類分開來，變成（1,0）問題\n",
    "## input : images = [] , label = []\n",
    "## output : 分成五類的 raw_data , train_y"
   ]
  },
  {
   "cell_type": "code",
   "execution_count": null,
   "metadata": {},
   "outputs": [],
   "source": [
    "def images_aug_undersampling(images_split,label):\n",
    "    train_1 = images_split[label]\n",
    "    train_0 = []\n",
    "    for i in range(5):\n",
    "        if i != label:\n",
    "            train_0.append(images_split[i])\n",
    "    \n",
    "    train_1_new = []\n",
    "    train_0_new = []\n",
    "    if len(train_1) < len(train_0)/4:\n",
    "        \n",
    "        transform_flip = torchvision.transforms.Compose([\n",
    "            torchvision.transforms.RandomHorizontalFlip(p = 1),\n",
    "            torchvision.transforms.RandomRotation(15, resample=PIL.Image.BILINEAR),\n",
    "            torchvision.transforms.ToTensor(),\n",
    "            torchvision.transforms.Normalize((0.485, 0.456, 0.406), (0.229, 0.224, 0.225))\n",
    "            ])\n",
    "\n",
    "        transform = torchvision.transforms.Compose([\n",
    "            torchvision.transforms.ToTensor(),\n",
    "            torchvision.transforms.Normalize((0.485, 0.456, 0.406), (0.229, 0.224, 0.225))\n",
    "            ])\n",
    "\n",
    "        transform_rotation = torchvision.transforms.Compose([\n",
    "            torchvision.transforms.RandomRotation((10,15), resample=PIL.Image.BILINEAR),\n",
    "            torchvision.transforms.ToTensor(),\n",
    "            torchvision.transforms.Normalize((0.485, 0.456, 0.406), (0.229, 0.224, 0.225))\n",
    "            ])\n",
    "        for train_ in train_1:\n",
    "            train_1_new.append(transform_flip(train_))\n",
    "            train_1_new.append(transform(train_))\n",
    "            train_1_new.append(transform_rotation(train_))\n",
    "    else:\n",
    "        for train_ in train_1:\n",
    "            train_1_new.append(transform(train_))\n",
    "    for train_ in train_0:\n",
    "        train_0_new.append(transform(train_))\n",
    "    \n",
    "    #undersampler\n",
    "    data_x = train_1_new\n",
    "    data_x.append(train_0_new)\n",
    "    data_y = np.ones(len(data_x))\n",
    "    data_y.append(np.zeros(len(data_y)))\n",
    "    rus = RandomUnderSampler(random_state=0)\n",
    "    data_x, label_y = rus.fit_sample(data_x, label_y)\n",
    "    return data_x, label_y"
   ]
  },
  {
   "cell_type": "code",
   "execution_count": null,
   "metadata": {},
   "outputs": [],
   "source": [
    "images_split = [[],[],[],[],[]]\n",
    "for image_, label_ in images, label:\n",
    "    images_split[label_].append(image_)\n",
    "\n",
    "\n",
    "data_x_0, label_y_0 = images_aug_undersampling(images_split, 0)\n",
    "data_x_1, label_y_1 = images_aug_undersampling(images_split, 1)\n",
    "data_x_2, label_y_2 = images_aug_undersampling(images_split, 2)\n",
    "data_x_3, label_y_3 = images_aug_undersampling(images_split, 3)\n",
    "data_x_4, label_y_4 = images_aug_undersampling(images_split, 4)"
   ]
  }
 ],
 "metadata": {
  "kernelspec": {
   "display_name": "Python 3",
   "language": "python",
   "name": "python3"
  },
  "language_info": {
   "codemirror_mode": {
    "name": "ipython",
    "version": 3
   },
   "file_extension": ".py",
   "mimetype": "text/x-python",
   "name": "python",
   "nbconvert_exporter": "python",
   "pygments_lexer": "ipython3",
   "version": "3.6.9"
  }
 },
 "nbformat": 4,
 "nbformat_minor": 4
}
